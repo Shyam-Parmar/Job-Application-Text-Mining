{
 "cells": [
  {
   "cell_type": "markdown",
   "metadata": {},
   "source": [
    "## Job Description Salary Prediction"
   ]
  },
  {
   "cell_type": "code",
   "execution_count": 95,
   "metadata": {},
   "outputs": [],
   "source": [
    "# Load libraries\n",
    "import pandas as pd\n",
    "import numpy as np\n",
    "\n",
    "# Data prep\n",
    "from sklearn.compose import ColumnTransformer\n",
    "from sklearn.pipeline import Pipeline\n",
    "from sklearn.impute import SimpleImputer\n",
    "from sklearn.preprocessing import StandardScaler\n",
    "from sklearn.preprocessing import OneHotEncoder\n",
    "from sklearn.preprocessing import FunctionTransformer\n",
    "from sklearn.model_selection import train_test_split\n",
    "\n",
    "# Data prep for text column\n",
    "from sklearn.feature_extraction.text import TfidfVectorizer\n",
    "\n",
    "# Models\n",
    "from sklearn.decomposition import TruncatedSVD\n",
    "from sklearn.ensemble import RandomForestRegressor\n",
    "from sklearn.tree import DecisionTreeRegressor\n",
    "from sklearn.linear_model import SGDRegressor \n",
    "from sklearn.svm import SVR \n",
    "from sklearn.ensemble import VotingRegressor\n",
    "from sklearn.ensemble import GradientBoostingRegressor\n",
    "from sklearn.neural_network import MLPRegressor\n",
    "from sklearn.model_selection import RandomizedSearchCV\n",
    "\n",
    "# Post model analysis\n",
    "from sklearn.metrics import mean_squared_error\n",
    "\n",
    "# Visualization\n",
    "import matplotlib.pyplot as plt\n",
    "\n",
    "# Set seed\n",
    "np.random.seed(42)"
   ]
  },
  {
   "cell_type": "code",
   "execution_count": 96,
   "metadata": {},
   "outputs": [
    {
     "data": {
      "text/html": [
       "<div>\n",
       "<style scoped>\n",
       "    .dataframe tbody tr th:only-of-type {\n",
       "        vertical-align: middle;\n",
       "    }\n",
       "\n",
       "    .dataframe tbody tr th {\n",
       "        vertical-align: top;\n",
       "    }\n",
       "\n",
       "    .dataframe thead th {\n",
       "        text-align: right;\n",
       "    }\n",
       "</style>\n",
       "<table border=\"1\" class=\"dataframe\">\n",
       "  <thead>\n",
       "    <tr style=\"text-align: right;\">\n",
       "      <th></th>\n",
       "      <th>Salary</th>\n",
       "      <th>Job Description</th>\n",
       "      <th>Location</th>\n",
       "      <th>Min_years_exp</th>\n",
       "      <th>Technical</th>\n",
       "      <th>Comm</th>\n",
       "      <th>Travel</th>\n",
       "    </tr>\n",
       "  </thead>\n",
       "  <tbody>\n",
       "    <tr>\n",
       "      <th>0</th>\n",
       "      <td>67206</td>\n",
       "      <td>Civil Service Title: Regional Director Mental ...</td>\n",
       "      <td>Remote</td>\n",
       "      <td>5</td>\n",
       "      <td>2</td>\n",
       "      <td>3</td>\n",
       "      <td>0</td>\n",
       "    </tr>\n",
       "    <tr>\n",
       "      <th>1</th>\n",
       "      <td>88313</td>\n",
       "      <td>The New York City Comptrollerâ€™s Office Burea...</td>\n",
       "      <td>Remote</td>\n",
       "      <td>5</td>\n",
       "      <td>2</td>\n",
       "      <td>4</td>\n",
       "      <td>10-15</td>\n",
       "    </tr>\n",
       "    <tr>\n",
       "      <th>2</th>\n",
       "      <td>81315</td>\n",
       "      <td>With minimal supervision from the Deputy Commi...</td>\n",
       "      <td>East campus</td>\n",
       "      <td>5</td>\n",
       "      <td>3</td>\n",
       "      <td>3</td>\n",
       "      <td>5-10</td>\n",
       "    </tr>\n",
       "    <tr>\n",
       "      <th>3</th>\n",
       "      <td>76426</td>\n",
       "      <td>OPEN TO CURRENT BUSINESS PROMOTION COORDINATOR...</td>\n",
       "      <td>East campus</td>\n",
       "      <td>1</td>\n",
       "      <td>1</td>\n",
       "      <td>3</td>\n",
       "      <td>0</td>\n",
       "    </tr>\n",
       "    <tr>\n",
       "      <th>4</th>\n",
       "      <td>55675</td>\n",
       "      <td>Only candidates who are permanent in the Princ...</td>\n",
       "      <td>Southeast campus</td>\n",
       "      <td>1</td>\n",
       "      <td>1</td>\n",
       "      <td>3</td>\n",
       "      <td>5-10</td>\n",
       "    </tr>\n",
       "  </tbody>\n",
       "</table>\n",
       "</div>"
      ],
      "text/plain": [
       "   Salary                                    Job Description  \\\n",
       "0   67206  Civil Service Title: Regional Director Mental ...   \n",
       "1   88313  The New York City Comptrollerâ€™s Office Burea...   \n",
       "2   81315  With minimal supervision from the Deputy Commi...   \n",
       "3   76426  OPEN TO CURRENT BUSINESS PROMOTION COORDINATOR...   \n",
       "4   55675  Only candidates who are permanent in the Princ...   \n",
       "\n",
       "           Location  Min_years_exp  Technical  Comm Travel  \n",
       "0            Remote              5          2     3      0  \n",
       "1            Remote              5          2     4  10-15  \n",
       "2       East campus              5          3     3   5-10  \n",
       "3       East campus              1          1     3      0  \n",
       "4  Southeast campus              1          1     3   5-10  "
      ]
     },
     "execution_count": 96,
     "metadata": {},
     "output_type": "execute_result"
    }
   ],
   "source": [
    "# Load data file\n",
    "df =  pd.read_csv(r\"D:\\Shyam\\Documents\\01 - Documents\\Data Analytics Projects\\jobs_alldata.csv\")\n",
    "df.head()"
   ]
  },
  {
   "cell_type": "markdown",
   "metadata": {},
   "source": [
    "### Descriptive and Visual Analysis"
   ]
  },
  {
   "cell_type": "code",
   "execution_count": 97,
   "metadata": {},
   "outputs": [
    {
     "data": {
      "text/html": [
       "<div>\n",
       "<style scoped>\n",
       "    .dataframe tbody tr th:only-of-type {\n",
       "        vertical-align: middle;\n",
       "    }\n",
       "\n",
       "    .dataframe tbody tr th {\n",
       "        vertical-align: top;\n",
       "    }\n",
       "\n",
       "    .dataframe thead th {\n",
       "        text-align: right;\n",
       "    }\n",
       "</style>\n",
       "<table border=\"1\" class=\"dataframe\">\n",
       "  <thead>\n",
       "    <tr style=\"text-align: right;\">\n",
       "      <th></th>\n",
       "      <th>Salary</th>\n",
       "      <th>Min_years_exp</th>\n",
       "      <th>Technical</th>\n",
       "      <th>Comm</th>\n",
       "    </tr>\n",
       "  </thead>\n",
       "  <tbody>\n",
       "    <tr>\n",
       "      <th>count</th>\n",
       "      <td>2413.000000</td>\n",
       "      <td>2413.000000</td>\n",
       "      <td>2413.000000</td>\n",
       "      <td>2413.000000</td>\n",
       "    </tr>\n",
       "    <tr>\n",
       "      <th>mean</th>\n",
       "      <td>77990.330294</td>\n",
       "      <td>3.012847</td>\n",
       "      <td>2.266473</td>\n",
       "      <td>3.129714</td>\n",
       "    </tr>\n",
       "    <tr>\n",
       "      <th>std</th>\n",
       "      <td>29202.739636</td>\n",
       "      <td>1.798124</td>\n",
       "      <td>1.216194</td>\n",
       "      <td>0.886231</td>\n",
       "    </tr>\n",
       "    <tr>\n",
       "      <th>min</th>\n",
       "      <td>3624.000000</td>\n",
       "      <td>1.000000</td>\n",
       "      <td>1.000000</td>\n",
       "      <td>1.000000</td>\n",
       "    </tr>\n",
       "    <tr>\n",
       "      <th>25%</th>\n",
       "      <td>58064.000000</td>\n",
       "      <td>1.000000</td>\n",
       "      <td>1.000000</td>\n",
       "      <td>3.000000</td>\n",
       "    </tr>\n",
       "    <tr>\n",
       "      <th>50%</th>\n",
       "      <td>72689.000000</td>\n",
       "      <td>4.000000</td>\n",
       "      <td>2.000000</td>\n",
       "      <td>3.000000</td>\n",
       "    </tr>\n",
       "    <tr>\n",
       "      <th>75%</th>\n",
       "      <td>90518.000000</td>\n",
       "      <td>5.000000</td>\n",
       "      <td>3.000000</td>\n",
       "      <td>4.000000</td>\n",
       "    </tr>\n",
       "    <tr>\n",
       "      <th>max</th>\n",
       "      <td>224351.000000</td>\n",
       "      <td>5.000000</td>\n",
       "      <td>5.000000</td>\n",
       "      <td>5.000000</td>\n",
       "    </tr>\n",
       "  </tbody>\n",
       "</table>\n",
       "</div>"
      ],
      "text/plain": [
       "              Salary  Min_years_exp    Technical         Comm\n",
       "count    2413.000000    2413.000000  2413.000000  2413.000000\n",
       "mean    77990.330294       3.012847     2.266473     3.129714\n",
       "std     29202.739636       1.798124     1.216194     0.886231\n",
       "min      3624.000000       1.000000     1.000000     1.000000\n",
       "25%     58064.000000       1.000000     1.000000     3.000000\n",
       "50%     72689.000000       4.000000     2.000000     3.000000\n",
       "75%     90518.000000       5.000000     3.000000     4.000000\n",
       "max    224351.000000       5.000000     5.000000     5.000000"
      ]
     },
     "execution_count": 97,
     "metadata": {},
     "output_type": "execute_result"
    }
   ],
   "source": [
    "# Get an idea on the dataset\n",
    "\n",
    "df.describe()"
   ]
  },
  {
   "cell_type": "code",
   "execution_count": 98,
   "metadata": {},
   "outputs": [
    {
     "data": {
      "text/plain": [
       "array([[<AxesSubplot:title={'center':'Salary'}>]], dtype=object)"
      ]
     },
     "execution_count": 98,
     "metadata": {},
     "output_type": "execute_result"
    },
    {
     "data": {
      "image/png": "[encoded data removed]",
      "text/plain": [
       "<Figure size 432x288 with 1 Axes>"
      ]
     },
     "metadata": {
      "needs_background": "light"
     },
     "output_type": "display_data"
    }
   ],
   "source": [
    "# Histogram on Salary as this is the target variable\n",
    "\n",
    "df.hist(column= ['Salary'], bins = 40, color = '#07375c')"
   ]
  },
  {
   "cell_type": "code",
   "execution_count": 99,
   "metadata": {},
   "outputs": [
    {
     "data": {
      "text/plain": [
       "Text(0.5, 1.0, 'Years of Experience Requirement by Jobs')"
      ]
     },
     "execution_count": 99,
     "metadata": {},
     "output_type": "execute_result"
    },
    {
     "data": {
      "image/png": "[encoded data removed]",
      "text/plain": [
       "<Figure size 432x288 with 1 Axes>"
      ]
     },
     "metadata": {
      "needs_background": "light"
     },
     "output_type": "display_data"
    }
   ],
   "source": [
    "# Plotting visuals\n",
    "\n",
    "df['Min_years_exp'].value_counts().sort_values().plot(kind='bar', color = '#07375c')\n",
    "plt.xlabel(\"Count of Jobs\", labelpad=14)\n",
    "plt.xticks(rotation=360)\n",
    "plt.ylabel(\"Years of Experience\", labelpad=14)\n",
    "plt.title(\"Years of Experience Requirement by Jobs\")"
   ]
  },
  {
   "cell_type": "code",
   "execution_count": 100,
   "metadata": {},
   "outputs": [
    {
     "data": {
      "text/plain": [
       "Text(0.5, 1.0, 'Work Locations by Jobs')"
      ]
     },
     "execution_count": 100,
     "metadata": {},
     "output_type": "execute_result"
    },
    {
     "data": {
      "image/png": "[encoded data removed]",
      "text/plain": [
       "<Figure size 432x288 with 1 Axes>"
      ]
     },
     "metadata": {
      "needs_background": "light"
     },
     "output_type": "display_data"
    }
   ],
   "source": [
    "# Location visual\n",
    "\n",
    "df['Location'].value_counts().plot(kind='barh', color = '#07375c')\n",
    "plt.xlabel(\"Count of Jobs\", labelpad=14)\n",
    "plt.ylabel(\"Work Location\", labelpad=14)\n",
    "plt.title(\"Work Locations by Jobs\")"
   ]
  },
  {
   "cell_type": "code",
   "execution_count": 101,
   "metadata": {},
   "outputs": [
    {
     "data": {
      "text/plain": [
       "Text(0.5, 1.0, 'Required Technical Skills by Jobs')"
      ]
     },
     "execution_count": 101,
     "metadata": {},
     "output_type": "execute_result"
    },
    {
     "data": {
      "image/png": "[encoded data removed]",
      "text/plain": [
       "<Figure size 432x288 with 1 Axes>"
      ]
     },
     "metadata": {
      "needs_background": "light"
     },
     "output_type": "display_data"
    }
   ],
   "source": [
    "# Location visual\n",
    "\n",
    "df['Technical'].value_counts().sort_values().plot(kind='bar', color = '#07375c')\n",
    "plt.xlabel(\"Count of Jobs\", labelpad=14)\n",
    "plt.xticks(rotation = 360)\n",
    "plt.ylabel(\"Technical Skills\", labelpad=14)\n",
    "plt.title(\"Required Technical Skills by Jobs\")"
   ]
  },
  {
   "cell_type": "code",
   "execution_count": 102,
   "metadata": {},
   "outputs": [
    {
     "data": {
      "text/plain": [
       "Text(0.5, 1.0, 'Communication Skill Requirement by Jobs')"
      ]
     },
     "execution_count": 102,
     "metadata": {},
     "output_type": "execute_result"
    },
    {
     "data": {
      "image/png": "[encoded data removed]",
      "text/plain": [
       "<Figure size 432x288 with 1 Axes>"
      ]
     },
     "metadata": {
      "needs_background": "light"
     },
     "output_type": "display_data"
    }
   ],
   "source": [
    "# Location visual\n",
    "\n",
    "df['Comm'].value_counts().sort_values().plot(kind='bar', color = '#07375c')\n",
    "plt.xlabel(\"Count of Jobs\", labelpad=14)\n",
    "plt.xticks(rotation = 360)\n",
    "plt.ylabel(\"Communication Skills\", labelpad=14)\n",
    "plt.title(\"Communication Skill Requirement by Jobs\")"
   ]
  },
  {
   "cell_type": "code",
   "execution_count": 103,
   "metadata": {},
   "outputs": [
    {
     "data": {
      "text/plain": [
       "Text(0.5, 1.0, 'Number of Hours It Takes to Travel to Work')"
      ]
     },
     "execution_count": 103,
     "metadata": {},
     "output_type": "execute_result"
    },
    {
     "data": {
      "image/png": "[encoded data removed]",
      "text/plain": [
       "<Figure size 432x288 with 1 Axes>"
      ]
     },
     "metadata": {
      "needs_background": "light"
     },
     "output_type": "display_data"
    }
   ],
   "source": [
    "# Location visual\n",
    "\n",
    "df['Travel'].value_counts().sort_values(ascending= True).plot(kind='bar', color = '#07375c')\n",
    "plt.xlabel(\"Count\", labelpad=15)\n",
    "plt.xticks(rotation = 360)\n",
    "plt.ylabel(\"Travel Distance (Hours)\", labelpad=15)\n",
    "plt.title(\"Number of Hours It Takes to Travel to Work\")"
   ]
  },
  {
   "cell_type": "markdown",
   "metadata": {},
   "source": [
    "### Data Prep"
   ]
  },
  {
   "cell_type": "code",
   "execution_count": 104,
   "metadata": {},
   "outputs": [],
   "source": [
    "# Divide columns into three groups\n",
    "# Group 1 = Job Description\n",
    "# Group 2 = Location, Min_years_exp, Technical, Comm, and Travel\n",
    "# Group 3 = Salary (target variable)\n",
    "\n",
    "# Create group 1 for job description\n",
    "text_input_data = df['Job Description']\n",
    "\n",
    "# Create group 2 for the rest of the columns\n",
    "input_data = df.drop(['Job Description', 'Salary'], axis = 1)\n",
    "\n",
    "# Create group 3 to separate the target variable\n",
    "target_variable = df['Salary']"
   ]
  },
  {
   "cell_type": "code",
   "execution_count": 105,
   "metadata": {},
   "outputs": [
    {
     "name": "stdout",
     "output_type": "stream",
     "text": [
      "Text Input Data\n",
      "0       Civil Service Title: Regional Director Mental ...\n",
      "1       The New York City Comptrollerâ€™s Office Burea...\n",
      "2       With minimal supervision from the Deputy Commi...\n",
      "3       OPEN TO CURRENT BUSINESS PROMOTION COORDINATOR...\n",
      "4       Only candidates who are permanent in the Princ...\n",
      "                              ...                        \n",
      "2408    Section 8, also known as the Housing Choice Vo...\n",
      "2409    The NYC Department of Environmental Protection...\n",
      "2410    The NYC Department of Environmental Protection...\n",
      "2411    Under general supervision, with some latitude ...\n",
      "2412    The New York City Department of Correction (DO...\n",
      "Name: Job Description, Length: 2413, dtype: object\n",
      "\n",
      "Input Data\n",
      "              Location  Min_years_exp  Technical  Comm Travel\n",
      "0               Remote              5          2     3      0\n",
      "1               Remote              5          2     4  10-15\n",
      "2          East campus              5          3     3   5-10\n",
      "3          East campus              1          1     3      0\n",
      "4     Southeast campus              1          1     3   5-10\n",
      "...                ...            ...        ...   ...    ...\n",
      "2408  Southeast campus              5          2     1      0\n",
      "2409       West campus              5          1     1      0\n",
      "2410                HQ              5          5     4      0\n",
      "2411       East campus              4          1     5      0\n",
      "2412                HQ              5          3     5      0\n",
      "\n",
      "[2413 rows x 5 columns]\n",
      "\n",
      "Target Variable\n",
      "0        67206\n",
      "1        88313\n",
      "2        81315\n",
      "3        76426\n",
      "4        55675\n",
      "         ...  \n",
      "2408     79812\n",
      "2409    108122\n",
      "2410     55711\n",
      "2411     64420\n",
      "2412     34438\n",
      "Name: Salary, Length: 2413, dtype: int64\n"
     ]
    }
   ],
   "source": [
    "# Verify the variables are correct\n",
    "\n",
    "# text_input_data, input_data, target_variable\n",
    "\n",
    "print(\"Text Input Data\")\n",
    "print(text_input_data)\n",
    "print(\"\")\n",
    "print(\"Input Data\")\n",
    "print(input_data)\n",
    "print(\"\")\n",
    "print(\"Target Variable\")\n",
    "print(target_variable)"
   ]
  },
  {
   "cell_type": "code",
   "execution_count": 106,
   "metadata": {},
   "outputs": [],
   "source": [
    "# Randomly split the data set into 70/30\n",
    "\n",
    "train_text_set, test_text_set, train_inputs, test_inputs, train_y, test_y = train_test_split(text_input_data, input_data, target_variable, test_size=0.3)"
   ]
  },
  {
   "cell_type": "code",
   "execution_count": 107,
   "metadata": {},
   "outputs": [
    {
     "name": "stdout",
     "output_type": "stream",
     "text": [
      "Train Text Shape:  (1689,)\n",
      "Test Text Shape:  (724,)\n",
      "\n",
      "Train Shape:  (1689, 5)\n",
      "Test Shape:  (724, 5)\n",
      "\n",
      "Target Var Train Shape:  (1689,)\n",
      "Target Var Test Shape:  (724,)\n"
     ]
    }
   ],
   "source": [
    "# Print the shapes of the new variables to make sure they match\n",
    "\n",
    "print(\"Train Text Shape: \", train_text_set.shape) \n",
    "print(\"Test Text Shape: \", test_text_set.shape)\n",
    "print(\"\")\n",
    "print(\"Train Shape: \", train_inputs.shape)\n",
    "print(\"Test Shape: \", test_inputs.shape)\n",
    "print(\"\")\n",
    "print(\"Target Var Train Shape: \", train_y.shape)\n",
    "print(\"Target Var Test Shape: \", test_y.shape)"
   ]
  },
  {
   "cell_type": "code",
   "execution_count": 108,
   "metadata": {},
   "outputs": [],
   "source": [
    "# We first begin to work with the text column\n",
    "\n",
    "# Tokenizer and filtering stop words\n",
    "tfidf_vect = TfidfVectorizer(stop_words='english')\n",
    "\n",
    "# Fit transform \n",
    "train_x_tr = tfidf_vect.fit_transform(train_text_set)\n",
    "\n",
    "# Transform\n",
    "test_x_tr = tfidf_vect.transform(test_text_set)"
   ]
  },
  {
   "cell_type": "code",
   "execution_count": 109,
   "metadata": {},
   "outputs": [
    {
     "name": "stdout",
     "output_type": "stream",
     "text": [
      "Train Text Shape:  (1689, 9914)\n",
      "Test Text Shape:  (724, 9914)\n"
     ]
    }
   ],
   "source": [
    "# Print shapes to make sure they match\n",
    "\n",
    "print(\"Train Text Shape: \", train_x_tr.shape) \n",
    "print(\"Test Text Shape: \", test_x_tr.shape)"
   ]
  },
  {
   "cell_type": "code",
   "execution_count": 110,
   "metadata": {},
   "outputs": [],
   "source": [
    "# Create Singular Value Decomposition to control for number of columns\n",
    "# 800 columns provided 89.95% variance which is reasonable\n",
    "\n",
    "svd = TruncatedSVD(n_components=800, n_iter=10)"
   ]
  },
  {
   "cell_type": "code",
   "execution_count": 111,
   "metadata": {},
   "outputs": [
    {
     "data": {
      "text/plain": [
       "array([[ 0.24720598, -0.20327125,  0.11489911, ..., -0.02793279,\n",
       "         0.02864793, -0.00741146],\n",
       "       [ 0.17294821, -0.13074886,  0.00477585, ..., -0.0108925 ,\n",
       "        -0.0487874 ,  0.01456041],\n",
       "       [ 0.5877761 ,  0.365734  ,  0.13443229, ..., -0.00580571,\n",
       "         0.00127871,  0.00914039],\n",
       "       ...,\n",
       "       [ 0.13385776, -0.10605211, -0.04018447, ...,  0.01886407,\n",
       "        -0.01027066,  0.01936612],\n",
       "       [ 0.15340621, -0.12353644, -0.04283056, ...,  0.00603409,\n",
       "        -0.00106324, -0.00170243],\n",
       "       [ 0.21722752, -0.05642434,  0.31527024, ..., -0.02696592,\n",
       "        -0.00868274,  0.01260164]])"
      ]
     },
     "execution_count": 111,
     "metadata": {},
     "output_type": "execute_result"
    }
   ],
   "source": [
    "# Fit transform the SVD with the train text\n",
    "train_x_lsa = svd.fit_transform(train_x_tr)\n",
    "\n",
    "train_x_lsa"
   ]
  },
  {
   "cell_type": "code",
   "execution_count": 112,
   "metadata": {},
   "outputs": [
    {
     "data": {
      "text/plain": [
       "(1689, 800)"
      ]
     },
     "execution_count": 112,
     "metadata": {},
     "output_type": "execute_result"
    }
   ],
   "source": [
    "# Veryfiy the shape of the train text variable\n",
    "# THIS IS IMPORTANT \n",
    "\n",
    "train_x_lsa.shape"
   ]
  },
  {
   "cell_type": "code",
   "execution_count": 113,
   "metadata": {},
   "outputs": [
    {
     "data": {
      "text/plain": [
       "array([[ 0.22442943, -0.15304556, -0.07083585, ...,  0.02151242,\n",
       "         0.00778754, -0.00769884],\n",
       "       [ 0.18129172, -0.14482415, -0.05639426, ..., -0.00068191,\n",
       "        -0.01480211, -0.00862177],\n",
       "       [ 0.25478046, -0.19879586, -0.07065608, ..., -0.00515763,\n",
       "         0.00539821, -0.01208958],\n",
       "       ...,\n",
       "       [ 0.27755586, -0.18287792,  0.03599143, ..., -0.02641954,\n",
       "        -0.03337113, -0.00415323],\n",
       "       [ 0.14498797, -0.11293755, -0.07782072, ...,  0.0070384 ,\n",
       "        -0.00767916,  0.00274849],\n",
       "       [ 0.26692051, -0.08935042,  0.44355519, ...,  0.00178106,\n",
       "        -0.01896273,  0.01349564]])"
      ]
     },
     "execution_count": 113,
     "metadata": {},
     "output_type": "execute_result"
    }
   ],
   "source": [
    "# Transform the test text set\n",
    "test_x_lsa = svd.transform(test_x_tr)\n",
    "\n",
    "test_x_lsa"
   ]
  },
  {
   "cell_type": "code",
   "execution_count": 114,
   "metadata": {},
   "outputs": [
    {
     "data": {
      "text/plain": [
       "(724, 800)"
      ]
     },
     "execution_count": 114,
     "metadata": {},
     "output_type": "execute_result"
    }
   ],
   "source": [
    "# Verify the shape of test text variable\n",
    "# THIS IS IMPORTANT\n",
    "\n",
    "test_x_lsa.shape"
   ]
  },
  {
   "cell_type": "code",
   "execution_count": 115,
   "metadata": {},
   "outputs": [
    {
     "name": "stdout",
     "output_type": "stream",
     "text": [
      "89.9 %\n"
     ]
    }
   ],
   "source": [
    "# Look at the variance between the actual columns (9914 columns) and the replaced columns (800 columns)\n",
    "\n",
    "print(round(svd.explained_variance_.sum() * 100,2), \"%\")"
   ]
  },
  {
   "cell_type": "markdown",
   "metadata": {},
   "source": [
    "### Feature Engineering"
   ]
  },
  {
   "cell_type": "code",
   "execution_count": 116,
   "metadata": {},
   "outputs": [],
   "source": [
    "# Now we work on the remaining columns of the dataframe\n",
    "\n",
    "# We create a new column derived from the Locatino column in our dataframe\n",
    "# The new column indicates whether the job location is Remote (1) or On-Campus (0)\n",
    "\n",
    "# Define function\n",
    "def binary_location (row):\n",
    "   if row['Location'] == 'Remote' :\n",
    "      return 1\n",
    "   return 0"
   ]
  },
  {
   "cell_type": "code",
   "execution_count": 117,
   "metadata": {},
   "outputs": [
    {
     "name": "stderr",
     "output_type": "stream",
     "text": [
      "<ipython-input-117-6c162c3cd0b1>:2: SettingWithCopyWarning: \n",
      "A value is trying to be set on a copy of a slice from a DataFrame.\n",
      "Try using .loc[row_indexer,col_indexer] = value instead\n",
      "\n",
      "See the caveats in the documentation: https://pandas.pydata.org/pandas-docs/stable/user_guide/indexing.html#returning-a-view-versus-a-copy\n",
      "  train_inputs['binary_location'] = train_inputs.apply (lambda row: binary_location(row), axis = 1)\n",
      "<ipython-input-117-6c162c3cd0b1>:4: SettingWithCopyWarning: \n",
      "A value is trying to be set on a copy of a slice from a DataFrame.\n",
      "Try using .loc[row_indexer,col_indexer] = value instead\n",
      "\n",
      "See the caveats in the documentation: https://pandas.pydata.org/pandas-docs/stable/user_guide/indexing.html#returning-a-view-versus-a-copy\n",
      "  test_inputs['binary_location'] = test_inputs.apply(lambda row: binary_location(row), axis = 1)\n"
     ]
    }
   ],
   "source": [
    "# Add the new column in train and test inputs \n",
    "train_inputs['binary_location'] = train_inputs.apply (lambda row: binary_location(row), axis = 1)\n",
    "\n",
    "test_inputs['binary_location'] = test_inputs.apply(lambda row: binary_location(row), axis = 1)"
   ]
  },
  {
   "cell_type": "code",
   "execution_count": 118,
   "metadata": {},
   "outputs": [
    {
     "data": {
      "text/plain": [
       "Location           object\n",
       "Min_years_exp       int64\n",
       "Technical           int64\n",
       "Comm                int64\n",
       "Travel             object\n",
       "binary_location     int64\n",
       "dtype: object"
      ]
     },
     "execution_count": 118,
     "metadata": {},
     "output_type": "execute_result"
    }
   ],
   "source": [
    "train_inputs.dtypes"
   ]
  },
  {
   "cell_type": "code",
   "execution_count": 119,
   "metadata": {},
   "outputs": [],
   "source": [
    "# Identify the numerical columns\n",
    "numeric_columns = train_inputs.select_dtypes(include=[np.number]).columns.to_list()\n",
    "\n",
    "# Identify the categorical columns\n",
    "categorical_columns = train_inputs.select_dtypes('object').columns.to_list()"
   ]
  },
  {
   "cell_type": "code",
   "execution_count": 120,
   "metadata": {},
   "outputs": [],
   "source": [
    "# Identify our binary columns\n",
    "\n",
    "binary_columns = ['binary_location']"
   ]
  },
  {
   "cell_type": "code",
   "execution_count": 121,
   "metadata": {},
   "outputs": [],
   "source": [
    "# Be careful: numerical columns already includes the binary columns,\n",
    "# So, we need to remove the binary columns from numerical columns.\n",
    "\n",
    "for col in binary_columns:\n",
    "    numeric_columns.remove(col)"
   ]
  },
  {
   "cell_type": "code",
   "execution_count": 122,
   "metadata": {},
   "outputs": [
    {
     "data": {
      "text/plain": [
       "['binary_location']"
      ]
     },
     "execution_count": 122,
     "metadata": {},
     "output_type": "execute_result"
    }
   ],
   "source": [
    "binary_columns"
   ]
  },
  {
   "cell_type": "code",
   "execution_count": 123,
   "metadata": {},
   "outputs": [
    {
     "data": {
      "text/plain": [
       "['Min_years_exp', 'Technical', 'Comm']"
      ]
     },
     "execution_count": 123,
     "metadata": {},
     "output_type": "execute_result"
    }
   ],
   "source": [
    "numeric_columns"
   ]
  },
  {
   "cell_type": "code",
   "execution_count": 124,
   "metadata": {},
   "outputs": [
    {
     "data": {
      "text/plain": [
       "['Location', 'Travel']"
      ]
     },
     "execution_count": 124,
     "metadata": {},
     "output_type": "execute_result"
    }
   ],
   "source": [
    "categorical_columns"
   ]
  },
  {
   "cell_type": "code",
   "execution_count": 125,
   "metadata": {},
   "outputs": [],
   "source": [
    "# Pipeline\n",
    "\n",
    "numeric_transformer = Pipeline(steps=[\n",
    "                ('imputer', SimpleImputer(strategy='median')),\n",
    "                ('scaler', StandardScaler())])"
   ]
  },
  {
   "cell_type": "code",
   "execution_count": 126,
   "metadata": {},
   "outputs": [],
   "source": [
    "binary_transformer = Pipeline(steps=[\n",
    "    ('imputer', SimpleImputer(strategy='most_frequent'))])"
   ]
  },
  {
   "cell_type": "code",
   "execution_count": 127,
   "metadata": {},
   "outputs": [],
   "source": [
    "categorical_transformer = Pipeline(steps=[\n",
    "    ('imputer', SimpleImputer(strategy='constant', fill_value='unknown')),\n",
    "    ('onehot', OneHotEncoder(handle_unknown='ignore'))])"
   ]
  },
  {
   "cell_type": "code",
   "execution_count": 128,
   "metadata": {},
   "outputs": [],
   "source": [
    "preprocessor = ColumnTransformer([\n",
    "        ('num', numeric_transformer, numeric_columns),\n",
    "        ('cat', categorical_transformer, categorical_columns),\n",
    "        ('binary', binary_transformer, binary_columns)],\n",
    "        remainder='passthrough')"
   ]
  },
  {
   "cell_type": "code",
   "execution_count": 129,
   "metadata": {},
   "outputs": [
    {
     "data": {
      "text/plain": [
       "array([[-1.12955755,  0.59306224,  0.9780514 , ...,  0.        ,\n",
       "         0.        ,  0.        ],\n",
       "       [ 1.0979062 ,  0.59306224, -1.25579419, ...,  1.        ,\n",
       "         0.        ,  0.        ],\n",
       "       [-1.12955755,  0.59306224,  2.09497419, ...,  0.        ,\n",
       "         0.        ,  0.        ],\n",
       "       ...,\n",
       "       [-1.12955755,  0.59306224, -1.25579419, ...,  0.        ,\n",
       "         1.        ,  0.        ],\n",
       "       [ 0.54104026, -0.23136749, -0.1388714 , ...,  0.        ,\n",
       "         0.        ,  1.        ],\n",
       "       [-1.12955755, -0.23136749, -0.1388714 , ...,  0.        ,\n",
       "         0.        ,  0.        ]])"
      ]
     },
     "execution_count": 129,
     "metadata": {},
     "output_type": "execute_result"
    }
   ],
   "source": [
    "# Fit and transform the train data\n",
    "train_x_transformed = preprocessor.fit_transform(train_inputs)\n",
    "\n",
    "train_x_transformed"
   ]
  },
  {
   "cell_type": "code",
   "execution_count": 130,
   "metadata": {},
   "outputs": [
    {
     "data": {
      "text/plain": [
       "(1689, 13)"
      ]
     },
     "execution_count": 130,
     "metadata": {},
     "output_type": "execute_result"
    }
   ],
   "source": [
    "# Verify the shape of the transformed data\n",
    "# THIS IS IMPORTANT\n",
    "\n",
    "train_x_transformed.shape"
   ]
  },
  {
   "cell_type": "code",
   "execution_count": 131,
   "metadata": {},
   "outputs": [
    {
     "data": {
      "text/plain": [
       "array([[-1.12955755, -0.23136749, -0.1388714 , ...,  0.        ,\n",
       "         0.        ,  0.        ],\n",
       "       [ 0.54104026,  0.59306224, -2.37271699, ...,  0.        ,\n",
       "         1.        ,  0.        ],\n",
       "       [ 0.54104026,  0.59306224, -1.25579419, ...,  0.        ,\n",
       "         0.        ,  0.        ],\n",
       "       ...,\n",
       "       [-1.12955755, -0.23136749,  0.9780514 , ...,  0.        ,\n",
       "         0.        ,  1.        ],\n",
       "       [ 0.54104026,  2.24192171, -1.25579419, ...,  0.        ,\n",
       "         0.        ,  0.        ],\n",
       "       [ 1.0979062 , -1.05579722,  0.9780514 , ...,  0.        ,\n",
       "         0.        ,  0.        ]])"
      ]
     },
     "execution_count": 131,
     "metadata": {},
     "output_type": "execute_result"
    }
   ],
   "source": [
    "# Transform the test data\n",
    "test_x_transformed = preprocessor.transform(test_inputs)\n",
    "\n",
    "test_x_transformed"
   ]
  },
  {
   "cell_type": "code",
   "execution_count": 132,
   "metadata": {},
   "outputs": [
    {
     "data": {
      "text/plain": [
       "(724, 13)"
      ]
     },
     "execution_count": 132,
     "metadata": {},
     "output_type": "execute_result"
    }
   ],
   "source": [
    "# Verify the shape of the transformed data\n",
    "# THIS IS IMPORTANT\n",
    "\n",
    "test_x_transformed.shape"
   ]
  },
  {
   "cell_type": "code",
   "execution_count": 133,
   "metadata": {},
   "outputs": [
    {
     "data": {
      "text/plain": [
       "array([[-1.12955755, -0.23136749, -0.1388714 , ...,  0.        ,\n",
       "         0.        ,  0.        ],\n",
       "       [ 0.54104026,  0.59306224, -2.37271699, ...,  0.        ,\n",
       "         1.        ,  0.        ],\n",
       "       [ 0.54104026,  0.59306224, -1.25579419, ...,  0.        ,\n",
       "         0.        ,  0.        ],\n",
       "       ...,\n",
       "       [-1.12955755, -0.23136749,  0.9780514 , ...,  0.        ,\n",
       "         0.        ,  1.        ],\n",
       "       [ 0.54104026,  2.24192171, -1.25579419, ...,  0.        ,\n",
       "         0.        ,  0.        ],\n",
       "       [ 1.0979062 , -1.05579722,  0.9780514 , ...,  0.        ,\n",
       "         0.        ,  0.        ]])"
      ]
     },
     "execution_count": 133,
     "metadata": {},
     "output_type": "execute_result"
    }
   ],
   "source": [
    "# Transform the test data\n",
    "test_x_transformed = preprocessor.transform(test_inputs)\n",
    "\n",
    "test_x_transformed"
   ]
  },
  {
   "cell_type": "code",
   "execution_count": 134,
   "metadata": {},
   "outputs": [
    {
     "data": {
      "text/plain": [
       "(724, 13)"
      ]
     },
     "execution_count": 134,
     "metadata": {},
     "output_type": "execute_result"
    }
   ],
   "source": [
    "# Verify the shape of the transformed data\n",
    "# THIS IS IMPORTANT\n",
    "\n",
    "test_x_transformed.shape"
   ]
  },
  {
   "cell_type": "code",
   "execution_count": 135,
   "metadata": {},
   "outputs": [],
   "source": [
    "# Concatenate the variables (Group 1 and Group 2)\n",
    "\n",
    "# Concatenate the test variables\n",
    "test_x = np.concatenate((test_x_lsa, test_x_transformed), axis = 1)\n",
    "\n",
    "# Concatenate the train variables\n",
    "train_x = np.concatenate((train_x_lsa, train_x_transformed), axis = 1)"
   ]
  },
  {
   "cell_type": "code",
   "execution_count": 136,
   "metadata": {},
   "outputs": [
    {
     "name": "stdout",
     "output_type": "stream",
     "text": [
      "Final Train Shape:  (1689, 813)\n",
      "Final Test Shape:  (724, 813)\n"
     ]
    }
   ],
   "source": [
    "# Verify the shape of the concatenated variables\n",
    "# THIS SHOULD ADD UP BETWEEN THE 2 GROUPS\n",
    "\n",
    "# 800 columns from Text group + 13 column from the Other group\n",
    "# Totalling 813 columns\n",
    "\n",
    "print(\"Final Train Shape: \", train_x.shape)\n",
    "\n",
    "print(\"Final Test Shape: \", test_x.shape)"
   ]
  },
  {
   "cell_type": "markdown",
   "metadata": {},
   "source": [
    "### Find the Baseline"
   ]
  },
  {
   "cell_type": "code",
   "execution_count": 137,
   "metadata": {},
   "outputs": [
    {
     "data": {
      "text/plain": [
       "78566.0307874482"
      ]
     },
     "execution_count": 137,
     "metadata": {},
     "output_type": "execute_result"
    }
   ],
   "source": [
    "# First find the average value of the target\n",
    "\n",
    "mean_value = np.mean(train_y)\n",
    "\n",
    "mean_value"
   ]
  },
  {
   "cell_type": "code",
   "execution_count": 138,
   "metadata": {},
   "outputs": [
    {
     "data": {
      "text/plain": [
       "array([78566.03078745, 78566.03078745, 78566.03078745, 78566.03078745,\n",
       "       78566.03078745, 78566.03078745, 78566.03078745, 78566.03078745,\n",
       "       78566.03078745, 78566.03078745, 78566.03078745, 78566.03078745,\n",
       "       78566.03078745, 78566.03078745, 78566.03078745, 78566.03078745,\n",
       "       78566.03078745, 78566.03078745, 78566.03078745, 78566.03078745,\n",
       "       78566.03078745, 78566.03078745, 78566.03078745, 78566.03078745,\n",
       "       78566.03078745, 78566.03078745, 78566.03078745, 78566.03078745,\n",
       "       78566.03078745, 78566.03078745, 78566.03078745, 78566.03078745,\n",
       "       78566.03078745, 78566.03078745, 78566.03078745, 78566.03078745,\n",
       "       78566.03078745, 78566.03078745, 78566.03078745, 78566.03078745,\n",
       "       78566.03078745, 78566.03078745, 78566.03078745, 78566.03078745,\n",
       "       78566.03078745, 78566.03078745, 78566.03078745, 78566.03078745,\n",
       "       78566.03078745, 78566.03078745, 78566.03078745, 78566.03078745,\n",
       "       78566.03078745, 78566.03078745, 78566.03078745, 78566.03078745,\n",
       "       78566.03078745, 78566.03078745, 78566.03078745, 78566.03078745,\n",
       "       78566.03078745, 78566.03078745, 78566.03078745, 78566.03078745,\n",
       "       78566.03078745, 78566.03078745, 78566.03078745, 78566.03078745,\n",
       "       78566.03078745, 78566.03078745, 78566.03078745, 78566.03078745,\n",
       "       78566.03078745, 78566.03078745, 78566.03078745, 78566.03078745,\n",
       "       78566.03078745, 78566.03078745, 78566.03078745, 78566.03078745,\n",
       "       78566.03078745, 78566.03078745, 78566.03078745, 78566.03078745,\n",
       "       78566.03078745, 78566.03078745, 78566.03078745, 78566.03078745,\n",
       "       78566.03078745, 78566.03078745, 78566.03078745, 78566.03078745,\n",
       "       78566.03078745, 78566.03078745, 78566.03078745, 78566.03078745,\n",
       "       78566.03078745, 78566.03078745, 78566.03078745, 78566.03078745,\n",
       "       78566.03078745, 78566.03078745, 78566.03078745, 78566.03078745,\n",
       "       78566.03078745, 78566.03078745, 78566.03078745, 78566.03078745,\n",
       "       78566.03078745, 78566.03078745, 78566.03078745, 78566.03078745,\n",
       "       78566.03078745, 78566.03078745, 78566.03078745, 78566.03078745,\n",
       "       78566.03078745, 78566.03078745, 78566.03078745, 78566.03078745,\n",
       "       78566.03078745, 78566.03078745, 78566.03078745, 78566.03078745,\n",
       "       78566.03078745, 78566.03078745, 78566.03078745, 78566.03078745,\n",
       "       78566.03078745, 78566.03078745, 78566.03078745, 78566.03078745,\n",
       "       78566.03078745, 78566.03078745, 78566.03078745, 78566.03078745,\n",
       "       78566.03078745, 78566.03078745, 78566.03078745, 78566.03078745,\n",
       "       78566.03078745, 78566.03078745, 78566.03078745, 78566.03078745,\n",
       "       78566.03078745, 78566.03078745, 78566.03078745, 78566.03078745,\n",
       "       78566.03078745, 78566.03078745, 78566.03078745, 78566.03078745,\n",
       "       78566.03078745, 78566.03078745, 78566.03078745, 78566.03078745,\n",
       "       78566.03078745, 78566.03078745, 78566.03078745, 78566.03078745,\n",
       "       78566.03078745, 78566.03078745, 78566.03078745, 78566.03078745,\n",
       "       78566.03078745, 78566.03078745, 78566.03078745, 78566.03078745,\n",
       "       78566.03078745, 78566.03078745, 78566.03078745, 78566.03078745,\n",
       "       78566.03078745, 78566.03078745, 78566.03078745, 78566.03078745,\n",
       "       78566.03078745, 78566.03078745, 78566.03078745, 78566.03078745,\n",
       "       78566.03078745, 78566.03078745, 78566.03078745, 78566.03078745,\n",
       "       78566.03078745, 78566.03078745, 78566.03078745, 78566.03078745,\n",
       "       78566.03078745, 78566.03078745, 78566.03078745, 78566.03078745,\n",
       "       78566.03078745, 78566.03078745, 78566.03078745, 78566.03078745,\n",
       "       78566.03078745, 78566.03078745, 78566.03078745, 78566.03078745,\n",
       "       78566.03078745, 78566.03078745, 78566.03078745, 78566.03078745,\n",
       "       78566.03078745, 78566.03078745, 78566.03078745, 78566.03078745,\n",
       "       78566.03078745, 78566.03078745, 78566.03078745, 78566.03078745,\n",
       "       78566.03078745, 78566.03078745, 78566.03078745, 78566.03078745,\n",
       "       78566.03078745, 78566.03078745, 78566.03078745, 78566.03078745,\n",
       "       78566.03078745, 78566.03078745, 78566.03078745, 78566.03078745,\n",
       "       78566.03078745, 78566.03078745, 78566.03078745, 78566.03078745,\n",
       "       78566.03078745, 78566.03078745, 78566.03078745, 78566.03078745,\n",
       "       78566.03078745, 78566.03078745, 78566.03078745, 78566.03078745,\n",
       "       78566.03078745, 78566.03078745, 78566.03078745, 78566.03078745,\n",
       "       78566.03078745, 78566.03078745, 78566.03078745, 78566.03078745,\n",
       "       78566.03078745, 78566.03078745, 78566.03078745, 78566.03078745,\n",
       "       78566.03078745, 78566.03078745, 78566.03078745, 78566.03078745,\n",
       "       78566.03078745, 78566.03078745, 78566.03078745, 78566.03078745,\n",
       "       78566.03078745, 78566.03078745, 78566.03078745, 78566.03078745,\n",
       "       78566.03078745, 78566.03078745, 78566.03078745, 78566.03078745,\n",
       "       78566.03078745, 78566.03078745, 78566.03078745, 78566.03078745,\n",
       "       78566.03078745, 78566.03078745, 78566.03078745, 78566.03078745,\n",
       "       78566.03078745, 78566.03078745, 78566.03078745, 78566.03078745,\n",
       "       78566.03078745, 78566.03078745, 78566.03078745, 78566.03078745,\n",
       "       78566.03078745, 78566.03078745, 78566.03078745, 78566.03078745,\n",
       "       78566.03078745, 78566.03078745, 78566.03078745, 78566.03078745,\n",
       "       78566.03078745, 78566.03078745, 78566.03078745, 78566.03078745,\n",
       "       78566.03078745, 78566.03078745, 78566.03078745, 78566.03078745,\n",
       "       78566.03078745, 78566.03078745, 78566.03078745, 78566.03078745,\n",
       "       78566.03078745, 78566.03078745, 78566.03078745, 78566.03078745,\n",
       "       78566.03078745, 78566.03078745, 78566.03078745, 78566.03078745,\n",
       "       78566.03078745, 78566.03078745, 78566.03078745, 78566.03078745,\n",
       "       78566.03078745, 78566.03078745, 78566.03078745, 78566.03078745,\n",
       "       78566.03078745, 78566.03078745, 78566.03078745, 78566.03078745,\n",
       "       78566.03078745, 78566.03078745, 78566.03078745, 78566.03078745,\n",
       "       78566.03078745, 78566.03078745, 78566.03078745, 78566.03078745,\n",
       "       78566.03078745, 78566.03078745, 78566.03078745, 78566.03078745,\n",
       "       78566.03078745, 78566.03078745, 78566.03078745, 78566.03078745,\n",
       "       78566.03078745, 78566.03078745, 78566.03078745, 78566.03078745,\n",
       "       78566.03078745, 78566.03078745, 78566.03078745, 78566.03078745,\n",
       "       78566.03078745, 78566.03078745, 78566.03078745, 78566.03078745,\n",
       "       78566.03078745, 78566.03078745, 78566.03078745, 78566.03078745,\n",
       "       78566.03078745, 78566.03078745, 78566.03078745, 78566.03078745,\n",
       "       78566.03078745, 78566.03078745, 78566.03078745, 78566.03078745,\n",
       "       78566.03078745, 78566.03078745, 78566.03078745, 78566.03078745,\n",
       "       78566.03078745, 78566.03078745, 78566.03078745, 78566.03078745,\n",
       "       78566.03078745, 78566.03078745, 78566.03078745, 78566.03078745,\n",
       "       78566.03078745, 78566.03078745, 78566.03078745, 78566.03078745,\n",
       "       78566.03078745, 78566.03078745, 78566.03078745, 78566.03078745,\n",
       "       78566.03078745, 78566.03078745, 78566.03078745, 78566.03078745,\n",
       "       78566.03078745, 78566.03078745, 78566.03078745, 78566.03078745,\n",
       "       78566.03078745, 78566.03078745, 78566.03078745, 78566.03078745,\n",
       "       78566.03078745, 78566.03078745, 78566.03078745, 78566.03078745,\n",
       "       78566.03078745, 78566.03078745, 78566.03078745, 78566.03078745,\n",
       "       78566.03078745, 78566.03078745, 78566.03078745, 78566.03078745,\n",
       "       78566.03078745, 78566.03078745, 78566.03078745, 78566.03078745,\n",
       "       78566.03078745, 78566.03078745, 78566.03078745, 78566.03078745,\n",
       "       78566.03078745, 78566.03078745, 78566.03078745, 78566.03078745,\n",
       "       78566.03078745, 78566.03078745, 78566.03078745, 78566.03078745,\n",
       "       78566.03078745, 78566.03078745, 78566.03078745, 78566.03078745,\n",
       "       78566.03078745, 78566.03078745, 78566.03078745, 78566.03078745,\n",
       "       78566.03078745, 78566.03078745, 78566.03078745, 78566.03078745,\n",
       "       78566.03078745, 78566.03078745, 78566.03078745, 78566.03078745,\n",
       "       78566.03078745, 78566.03078745, 78566.03078745, 78566.03078745,\n",
       "       78566.03078745, 78566.03078745, 78566.03078745, 78566.03078745,\n",
       "       78566.03078745, 78566.03078745, 78566.03078745, 78566.03078745,\n",
       "       78566.03078745, 78566.03078745, 78566.03078745, 78566.03078745,\n",
       "       78566.03078745, 78566.03078745, 78566.03078745, 78566.03078745,\n",
       "       78566.03078745, 78566.03078745, 78566.03078745, 78566.03078745,\n",
       "       78566.03078745, 78566.03078745, 78566.03078745, 78566.03078745,\n",
       "       78566.03078745, 78566.03078745, 78566.03078745, 78566.03078745,\n",
       "       78566.03078745, 78566.03078745, 78566.03078745, 78566.03078745,\n",
       "       78566.03078745, 78566.03078745, 78566.03078745, 78566.03078745,\n",
       "       78566.03078745, 78566.03078745, 78566.03078745, 78566.03078745,\n",
       "       78566.03078745, 78566.03078745, 78566.03078745, 78566.03078745,\n",
       "       78566.03078745, 78566.03078745, 78566.03078745, 78566.03078745,\n",
       "       78566.03078745, 78566.03078745, 78566.03078745, 78566.03078745,\n",
       "       78566.03078745, 78566.03078745, 78566.03078745, 78566.03078745,\n",
       "       78566.03078745, 78566.03078745, 78566.03078745, 78566.03078745,\n",
       "       78566.03078745, 78566.03078745, 78566.03078745, 78566.03078745,\n",
       "       78566.03078745, 78566.03078745, 78566.03078745, 78566.03078745,\n",
       "       78566.03078745, 78566.03078745, 78566.03078745, 78566.03078745,\n",
       "       78566.03078745, 78566.03078745, 78566.03078745, 78566.03078745,\n",
       "       78566.03078745, 78566.03078745, 78566.03078745, 78566.03078745,\n",
       "       78566.03078745, 78566.03078745, 78566.03078745, 78566.03078745,\n",
       "       78566.03078745, 78566.03078745, 78566.03078745, 78566.03078745,\n",
       "       78566.03078745, 78566.03078745, 78566.03078745, 78566.03078745,\n",
       "       78566.03078745, 78566.03078745, 78566.03078745, 78566.03078745,\n",
       "       78566.03078745, 78566.03078745, 78566.03078745, 78566.03078745,\n",
       "       78566.03078745, 78566.03078745, 78566.03078745, 78566.03078745,\n",
       "       78566.03078745, 78566.03078745, 78566.03078745, 78566.03078745,\n",
       "       78566.03078745, 78566.03078745, 78566.03078745, 78566.03078745,\n",
       "       78566.03078745, 78566.03078745, 78566.03078745, 78566.03078745,\n",
       "       78566.03078745, 78566.03078745, 78566.03078745, 78566.03078745,\n",
       "       78566.03078745, 78566.03078745, 78566.03078745, 78566.03078745,\n",
       "       78566.03078745, 78566.03078745, 78566.03078745, 78566.03078745,\n",
       "       78566.03078745, 78566.03078745, 78566.03078745, 78566.03078745,\n",
       "       78566.03078745, 78566.03078745, 78566.03078745, 78566.03078745,\n",
       "       78566.03078745, 78566.03078745, 78566.03078745, 78566.03078745,\n",
       "       78566.03078745, 78566.03078745, 78566.03078745, 78566.03078745,\n",
       "       78566.03078745, 78566.03078745, 78566.03078745, 78566.03078745,\n",
       "       78566.03078745, 78566.03078745, 78566.03078745, 78566.03078745,\n",
       "       78566.03078745, 78566.03078745, 78566.03078745, 78566.03078745,\n",
       "       78566.03078745, 78566.03078745, 78566.03078745, 78566.03078745,\n",
       "       78566.03078745, 78566.03078745, 78566.03078745, 78566.03078745,\n",
       "       78566.03078745, 78566.03078745, 78566.03078745, 78566.03078745,\n",
       "       78566.03078745, 78566.03078745, 78566.03078745, 78566.03078745,\n",
       "       78566.03078745, 78566.03078745, 78566.03078745, 78566.03078745,\n",
       "       78566.03078745, 78566.03078745, 78566.03078745, 78566.03078745,\n",
       "       78566.03078745, 78566.03078745, 78566.03078745, 78566.03078745,\n",
       "       78566.03078745, 78566.03078745, 78566.03078745, 78566.03078745,\n",
       "       78566.03078745, 78566.03078745, 78566.03078745, 78566.03078745,\n",
       "       78566.03078745, 78566.03078745, 78566.03078745, 78566.03078745,\n",
       "       78566.03078745, 78566.03078745, 78566.03078745, 78566.03078745,\n",
       "       78566.03078745, 78566.03078745, 78566.03078745, 78566.03078745,\n",
       "       78566.03078745, 78566.03078745, 78566.03078745, 78566.03078745,\n",
       "       78566.03078745, 78566.03078745, 78566.03078745, 78566.03078745,\n",
       "       78566.03078745, 78566.03078745, 78566.03078745, 78566.03078745,\n",
       "       78566.03078745, 78566.03078745, 78566.03078745, 78566.03078745,\n",
       "       78566.03078745, 78566.03078745, 78566.03078745, 78566.03078745,\n",
       "       78566.03078745, 78566.03078745, 78566.03078745, 78566.03078745,\n",
       "       78566.03078745, 78566.03078745, 78566.03078745, 78566.03078745,\n",
       "       78566.03078745, 78566.03078745, 78566.03078745, 78566.03078745,\n",
       "       78566.03078745, 78566.03078745, 78566.03078745, 78566.03078745,\n",
       "       78566.03078745, 78566.03078745, 78566.03078745, 78566.03078745,\n",
       "       78566.03078745, 78566.03078745, 78566.03078745, 78566.03078745,\n",
       "       78566.03078745, 78566.03078745, 78566.03078745, 78566.03078745,\n",
       "       78566.03078745, 78566.03078745, 78566.03078745, 78566.03078745,\n",
       "       78566.03078745, 78566.03078745, 78566.03078745, 78566.03078745,\n",
       "       78566.03078745, 78566.03078745, 78566.03078745, 78566.03078745,\n",
       "       78566.03078745, 78566.03078745, 78566.03078745, 78566.03078745,\n",
       "       78566.03078745, 78566.03078745, 78566.03078745, 78566.03078745,\n",
       "       78566.03078745, 78566.03078745, 78566.03078745, 78566.03078745,\n",
       "       78566.03078745, 78566.03078745, 78566.03078745, 78566.03078745,\n",
       "       78566.03078745, 78566.03078745, 78566.03078745, 78566.03078745])"
      ]
     },
     "execution_count": 138,
     "metadata": {},
     "output_type": "execute_result"
    }
   ],
   "source": [
    "# Predict all values as the mean\n",
    "\n",
    "baseline_pred = np.repeat(mean_value, len(test_y))\n",
    "\n",
    "baseline_pred"
   ]
  },
  {
   "cell_type": "code",
   "execution_count": 139,
   "metadata": {},
   "outputs": [
    {
     "name": "stdout",
     "output_type": "stream",
     "text": [
      "Baseline RMSE: 28294.892856870818\n"
     ]
    }
   ],
   "source": [
    "# Calculate the baseline\n",
    "\n",
    "baseline_mse = mean_squared_error(test_y, baseline_pred)\n",
    "\n",
    "baseline_rmse = np.sqrt(baseline_mse)\n",
    "\n",
    "print('Baseline RMSE: {}' .format(baseline_rmse))"
   ]
  },
  {
   "cell_type": "markdown",
   "metadata": {},
   "source": [
    "### Models\n",
    "#### Decision Tree"
   ]
  },
  {
   "cell_type": "code",
   "execution_count": 140,
   "metadata": {},
   "outputs": [
    {
     "data": {
      "text/plain": [
       "DecisionTreeRegressor(max_depth=6, min_samples_leaf=10)"
      ]
     },
     "execution_count": 140,
     "metadata": {},
     "output_type": "execute_result"
    }
   ],
   "source": [
    "tree_reg = DecisionTreeRegressor(min_samples_leaf = 10, max_depth=6) \n",
    "\n",
    "tree_reg.fit(train_x, train_y)"
   ]
  },
  {
   "cell_type": "code",
   "execution_count": 141,
   "metadata": {},
   "outputs": [
    {
     "name": "stdout",
     "output_type": "stream",
     "text": [
      "Train RMSE: 20220.445442072396\n"
     ]
    }
   ],
   "source": [
    "#Train RMSE\n",
    "train_predict = tree_reg.predict(train_x)\n",
    "\n",
    "train_mse = mean_squared_error(train_y, train_predict)\n",
    "\n",
    "train_rmse = np.sqrt(train_mse)\n",
    "\n",
    "print('Train RMSE: {}' .format(train_rmse))"
   ]
  },
  {
   "cell_type": "code",
   "execution_count": 142,
   "metadata": {},
   "outputs": [
    {
     "name": "stdout",
     "output_type": "stream",
     "text": [
      "Test RMSE: 24783.611124846615\n"
     ]
    }
   ],
   "source": [
    "#Test RMSE\n",
    "test_predict = tree_reg.predict(test_x)\n",
    "\n",
    "test_mse = mean_squared_error(test_y, test_predict)\n",
    "\n",
    "test_rmse = np.sqrt(test_mse)\n",
    "\n",
    "print('Test RMSE: {}' .format(test_rmse))"
   ]
  },
  {
   "cell_type": "markdown",
   "metadata": {},
   "source": [
    "#### Voting Regressor"
   ]
  },
  {
   "cell_type": "code",
   "execution_count": 143,
   "metadata": {},
   "outputs": [
    {
     "data": {
      "text/plain": [
       "VotingRegressor(estimators=[('dt',\n",
       "                             DecisionTreeRegressor(max_depth=30,\n",
       "                                                   min_samples_leaf=10)),\n",
       "                            ('svr', SVR(C=10, epsilon=0.001)),\n",
       "                            ('sgd', SGDRegressor(max_iter=10000))])"
      ]
     },
     "execution_count": 143,
     "metadata": {},
     "output_type": "execute_result"
    }
   ],
   "source": [
    "# Voting Regressor Without Weights\n",
    "# Decision Tree, Support Vector Machine, and Stochastic Gradient Descent models\n",
    "\n",
    "dtree_reg = DecisionTreeRegressor(min_samples_leaf = 10, max_depth = 30)\n",
    "svm_reg = SVR(kernel=\"rbf\", C=10, epsilon=0.001, gamma='scale') \n",
    "sgd_reg = SGDRegressor(max_iter=10000, tol=1e-3)\n",
    "\n",
    "voting_reg = VotingRegressor(\n",
    "            estimators=[('dt', dtree_reg), \n",
    "                        ('svr', svm_reg), \n",
    "                        ('sgd', sgd_reg)])\n",
    "\n",
    "voting_reg.fit(train_x, train_y)"
   ]
  },
  {
   "cell_type": "code",
   "execution_count": 144,
   "metadata": {},
   "outputs": [
    {
     "name": "stdout",
     "output_type": "stream",
     "text": [
      "Train RMSE: 16057.956121472827\n"
     ]
    }
   ],
   "source": [
    "#Train RMSE\n",
    "train_pred = voting_reg.predict(train_x)\n",
    "\n",
    "train_mse = mean_squared_error(train_y, train_pred)\n",
    "\n",
    "train_rmse = np.sqrt(train_mse)\n",
    "\n",
    "print('Train RMSE: {}' .format(train_rmse))"
   ]
  },
  {
   "cell_type": "code",
   "execution_count": 145,
   "metadata": {},
   "outputs": [
    {
     "name": "stdout",
     "output_type": "stream",
     "text": [
      "Test RMSE: 20281.029422786407\n"
     ]
    }
   ],
   "source": [
    "#Test RMSE\n",
    "test_pred = voting_reg.predict(test_x)\n",
    "\n",
    "test_mse = mean_squared_error(test_y, test_pred)\n",
    "\n",
    "test_rmse = np.sqrt(test_mse)\n",
    "\n",
    "print('Test RMSE: {}' .format(test_rmse))"
   ]
  },
  {
   "cell_type": "code",
   "execution_count": 146,
   "metadata": {},
   "outputs": [
    {
     "data": {
      "text/plain": [
       "VotingRegressor(estimators=[('dt',\n",
       "                             DecisionTreeRegressor(max_depth=30,\n",
       "                                                   min_samples_leaf=10)),\n",
       "                            ('svr', SVR(C=10, epsilon=0.001)),\n",
       "                            ('sgd', SGDRegressor(max_iter=10000))],\n",
       "                weights=[0.2, 0.2, 0.6])"
      ]
     },
     "execution_count": 146,
     "metadata": {},
     "output_type": "execute_result"
    }
   ],
   "source": [
    "# Voting Regressor With Weights\n",
    "# SGDRegressor seems to be performing better, therefore it has the most weight\n",
    "\n",
    "dtree_reg = DecisionTreeRegressor(min_samples_leaf = 10, max_depth = 30)\n",
    "svm_reg = SVR(kernel=\"rbf\", C=10, epsilon=0.001, gamma='scale') \n",
    "sgd_reg = SGDRegressor(max_iter=10000, tol=1e-3)\n",
    "\n",
    "voting_reg = VotingRegressor(\n",
    "            estimators=[('dt', dtree_reg), ('svr', svm_reg), ('sgd', sgd_reg)],\n",
    "                        weights=[0.2, 0.2, 0.6])\n",
    "\n",
    "voting_reg.fit(train_x, train_y)"
   ]
  },
  {
   "cell_type": "code",
   "execution_count": 147,
   "metadata": {},
   "outputs": [
    {
     "name": "stdout",
     "output_type": "stream",
     "text": [
      "Train RMSE: 13772.79187772038\n"
     ]
    }
   ],
   "source": [
    "#Train RMSE\n",
    "train_pred = voting_reg.predict(train_x)\n",
    "\n",
    "train_mse = mean_squared_error(train_y, train_pred)\n",
    "\n",
    "train_rmse = np.sqrt(train_mse)\n",
    "\n",
    "print('Train RMSE: {}' .format(train_rmse))"
   ]
  },
  {
   "cell_type": "code",
   "execution_count": 148,
   "metadata": {},
   "outputs": [
    {
     "name": "stdout",
     "output_type": "stream",
     "text": [
      "Test RMSE: 18620.23744442495\n"
     ]
    }
   ],
   "source": [
    "#Test RMSE\n",
    "test_pred = voting_reg.predict(test_x)\n",
    "\n",
    "test_mse = mean_squared_error(test_y, test_pred)\n",
    "\n",
    "test_rmse = np.sqrt(test_mse)\n",
    "\n",
    "print('Test RMSE: {}' .format(test_rmse))"
   ]
  },
  {
   "cell_type": "markdown",
   "metadata": {},
   "source": [
    "#### Boosting Model"
   ]
  },
  {
   "cell_type": "code",
   "execution_count": 149,
   "metadata": {},
   "outputs": [
    {
     "data": {
      "text/plain": [
       "GradientBoostingRegressor(max_depth=4, n_estimators=200, subsample=0.75)"
      ]
     },
     "execution_count": 149,
     "metadata": {},
     "output_type": "execute_result"
    }
   ],
   "source": [
    "# Stochastic Gradient Boosting\n",
    "\n",
    "gb_reg = GradientBoostingRegressor(max_depth=4, n_estimators=200, \n",
    "                                   learning_rate=0.1, subsample=0.75) \n",
    "\n",
    "gb_reg.fit(train_x, train_y)"
   ]
  },
  {
   "cell_type": "code",
   "execution_count": 150,
   "metadata": {},
   "outputs": [
    {
     "name": "stdout",
     "output_type": "stream",
     "text": [
      "Train RMSE: 3397.1946180852715\n"
     ]
    }
   ],
   "source": [
    "#Train RMSE\n",
    "train_pred = gb_reg.predict(train_x)\n",
    "\n",
    "train_mse = mean_squared_error(train_y, train_pred)\n",
    "\n",
    "train_rmse = np.sqrt(train_mse)\n",
    "\n",
    "print('Train RMSE: {}' .format(train_rmse))"
   ]
  },
  {
   "cell_type": "code",
   "execution_count": 151,
   "metadata": {},
   "outputs": [
    {
     "name": "stdout",
     "output_type": "stream",
     "text": [
      "Test RMSE: 15318.12640918705\n"
     ]
    }
   ],
   "source": [
    "#Test RMSE\n",
    "test_pred = gb_reg.predict(test_x)\n",
    "\n",
    "test_mse = mean_squared_error(test_y, test_pred)\n",
    "\n",
    "test_rmse = np.sqrt(test_mse)\n",
    "\n",
    "print('Test RMSE: {}' .format(test_rmse))"
   ]
  },
  {
   "cell_type": "code",
   "execution_count": 152,
   "metadata": {},
   "outputs": [
    {
     "data": {
      "text/plain": [
       "GradientBoostingRegressor(learning_rate=0.01, max_depth=4, subsample=0.75)"
      ]
     },
     "execution_count": 152,
     "metadata": {},
     "output_type": "execute_result"
    }
   ],
   "source": [
    "# Checking for other values that will avoid overfitting\n",
    "# Stochastic Gradient Boosting\n",
    "gb_reg = GradientBoostingRegressor(max_depth=4, n_estimators=100, \n",
    "                                   learning_rate=0.01, subsample=0.75) \n",
    "\n",
    "gb_reg.fit(train_x, train_y)"
   ]
  },
  {
   "cell_type": "code",
   "execution_count": 153,
   "metadata": {},
   "outputs": [
    {
     "name": "stdout",
     "output_type": "stream",
     "text": [
      "Train RMSE: 22669.303828703625\n"
     ]
    }
   ],
   "source": [
    "#Train RMSE\n",
    "train_pred = gb_reg.predict(train_x)\n",
    "\n",
    "train_mse = mean_squared_error(train_y, train_pred)\n",
    "\n",
    "train_rmse = np.sqrt(train_mse)\n",
    "\n",
    "print('Train RMSE: {}' .format(train_rmse))"
   ]
  },
  {
   "cell_type": "code",
   "execution_count": 154,
   "metadata": {},
   "outputs": [
    {
     "name": "stdout",
     "output_type": "stream",
     "text": [
      "Test RMSE: 24198.69672330336\n"
     ]
    }
   ],
   "source": [
    "#Test RMSE\n",
    "test_pred = gb_reg.predict(test_x)\n",
    "\n",
    "test_mse = mean_squared_error(test_y, test_pred)\n",
    "\n",
    "test_rmse = np.sqrt(test_mse)\n",
    "\n",
    "print('Test RMSE: {}' .format(test_rmse))"
   ]
  },
  {
   "cell_type": "markdown",
   "metadata": {},
   "source": [
    "#### Neural Network"
   ]
  },
  {
   "cell_type": "code",
   "execution_count": 155,
   "metadata": {},
   "outputs": [
    {
     "name": "stderr",
     "output_type": "stream",
     "text": [
      "c:\\Users\\shyam\\anaconda3\\lib\\site-packages\\sklearn\\neural_network\\_multilayer_perceptron.py:614: ConvergenceWarning: Stochastic Optimizer: Maximum iterations (2000) reached and the optimization hasn't converged yet.\n",
      "  warnings.warn(\n"
     ]
    },
    {
     "data": {
      "text/plain": [
       "MLPRegressor(early_stopping=True, hidden_layer_sizes=(500,), max_iter=2000)"
      ]
     },
     "execution_count": 155,
     "metadata": {},
     "output_type": "execute_result"
    }
   ],
   "source": [
    "# Multi-Layer Perceptron with early stopping\n",
    "\n",
    "mlp_reg = MLPRegressor(hidden_layer_sizes=(500,), max_iter=2000, early_stopping=True)\n",
    "\n",
    "mlp_reg.fit(train_x, train_y)"
   ]
  },
  {
   "cell_type": "code",
   "execution_count": 156,
   "metadata": {},
   "outputs": [
    {
     "name": "stdout",
     "output_type": "stream",
     "text": [
      "Train RMSE: 13826.326680175935\n"
     ]
    }
   ],
   "source": [
    "#Train RMSE\n",
    "train_predict = mlp_reg.predict(train_x)\n",
    "\n",
    "train_mse = mean_squared_error(train_y, train_predict)\n",
    "\n",
    "train_rmse = np.sqrt(train_mse)\n",
    "\n",
    "print('Train RMSE: {}' .format(train_rmse))"
   ]
  },
  {
   "cell_type": "code",
   "execution_count": 157,
   "metadata": {},
   "outputs": [
    {
     "name": "stdout",
     "output_type": "stream",
     "text": [
      "Test RMSE: 18592.083704913694\n"
     ]
    }
   ],
   "source": [
    "#Test RMSE\n",
    "test_predict = mlp_reg.predict(test_x)\n",
    "\n",
    "test_mse = mean_squared_error(test_y, test_predict)\n",
    "\n",
    "test_rmse = np.sqrt(test_mse)\n",
    "\n",
    "print('Test RMSE: {}' .format(test_rmse))"
   ]
  },
  {
   "cell_type": "code",
   "execution_count": 158,
   "metadata": {},
   "outputs": [
    {
     "name": "stderr",
     "output_type": "stream",
     "text": [
      "c:\\Users\\shyam\\anaconda3\\lib\\site-packages\\sklearn\\neural_network\\_multilayer_perceptron.py:614: ConvergenceWarning: Stochastic Optimizer: Maximum iterations (2000) reached and the optimization hasn't converged yet.\n",
      "  warnings.warn(\n"
     ]
    },
    {
     "data": {
      "text/plain": [
       "MLPRegressor(hidden_layer_sizes=(500,), max_iter=2000)"
      ]
     },
     "execution_count": 158,
     "metadata": {},
     "output_type": "execute_result"
    }
   ],
   "source": [
    "# See if anything changes without early stopping\n",
    "\n",
    "mlp_reg = MLPRegressor(hidden_layer_sizes=(500,), max_iter=2000)\n",
    "\n",
    "mlp_reg.fit(train_x, train_y)"
   ]
  },
  {
   "cell_type": "code",
   "execution_count": 159,
   "metadata": {},
   "outputs": [
    {
     "name": "stdout",
     "output_type": "stream",
     "text": [
      "Train RMSE: 12232.870904743037\n"
     ]
    }
   ],
   "source": [
    "#Train RMSE\n",
    "train_predict = mlp_reg.predict(train_x)\n",
    "\n",
    "train_mse = mean_squared_error(train_y, train_predict)\n",
    "\n",
    "train_rmse = np.sqrt(train_mse)\n",
    "\n",
    "print('Train RMSE: {}' .format(train_rmse))"
   ]
  },
  {
   "cell_type": "code",
   "execution_count": 160,
   "metadata": {},
   "outputs": [
    {
     "name": "stdout",
     "output_type": "stream",
     "text": [
      "Test RMSE: 17932.036177971666\n"
     ]
    }
   ],
   "source": [
    "#Test RMSE\n",
    "test_predict = mlp_reg.predict(test_x)\n",
    "\n",
    "test_mse = mean_squared_error(test_y, test_predict)\n",
    "\n",
    "test_rmse = np.sqrt(test_mse)\n",
    "\n",
    "print('Test RMSE: {}' .format(test_rmse))"
   ]
  },
  {
   "cell_type": "markdown",
   "metadata": {},
   "source": [
    "#### Grid Search"
   ]
  },
  {
   "cell_type": "code",
   "execution_count": 161,
   "metadata": {},
   "outputs": [
    {
     "name": "stdout",
     "output_type": "stream",
     "text": [
      "Fitting 5 folds for each of 10 candidates, totalling 50 fits\n"
     ]
    },
    {
     "data": {
      "text/plain": [
       "RandomizedSearchCV(cv=5, estimator=GradientBoostingRegressor(), n_jobs=-1,\n",
       "                   param_distributions=[{'learning_rate': array([0.01]),\n",
       "                                         'max_depth': array([10, 11, 12, 13, 14, 15, 16, 17, 18, 19, 20, 21, 22, 23, 24, 25, 26,\n",
       "       27, 28, 29]),\n",
       "                                         'min_samples_leaf': array([10, 11, 12, 13, 14, 15, 16, 17, 18, 19, 20, 21, 22, 23, 24, 25, 26,\n",
       "       27, 28, 29])}],\n",
       "                   return_train_score=True, scoring='neg_mean_squared_error',\n",
       "                   verbose=1)"
      ]
     },
     "execution_count": 161,
     "metadata": {},
     "output_type": "execute_result"
    }
   ],
   "source": [
    "# Grid Search on Gradient Boosting using 5-fold cross validation with 10 number of iterations\n",
    "\n",
    "param_randomgrid = [\n",
    "    {'min_samples_leaf': np.arange(10, 30), \n",
    "     'max_depth': np.arange(10,30),\n",
    "    'learning_rate': np.arange(0.01,0.1)}\n",
    "  ]\n",
    "\n",
    "Rgrid_search = RandomizedSearchCV(GradientBoostingRegressor(), param_randomgrid, cv=5, n_iter=10,\n",
    "                           scoring='neg_mean_squared_error', verbose=1, n_jobs = -1,\n",
    "                           return_train_score=True)\n",
    "\n",
    "Rgrid_search.fit(train_x, train_y)"
   ]
  },
  {
   "cell_type": "code",
   "execution_count": 162,
   "metadata": {},
   "outputs": [
    {
     "name": "stdout",
     "output_type": "stream",
     "text": [
      "23362.404705874855 {'min_samples_leaf': 17, 'max_depth': 23, 'learning_rate': 0.01}\n",
      "23937.174375018403 {'min_samples_leaf': 25, 'max_depth': 27, 'learning_rate': 0.01}\n",
      "23505.967998639022 {'min_samples_leaf': 18, 'max_depth': 20, 'learning_rate': 0.01}\n",
      "23604.376768197566 {'min_samples_leaf': 20, 'max_depth': 24, 'learning_rate': 0.01}\n",
      "23580.773801529947 {'min_samples_leaf': 21, 'max_depth': 26, 'learning_rate': 0.01}\n",
      "23397.916530027782 {'min_samples_leaf': 14, 'max_depth': 26, 'learning_rate': 0.01}\n",
      "22850.98665613241 {'min_samples_leaf': 11, 'max_depth': 24, 'learning_rate': 0.01}\n",
      "23378.580195282047 {'min_samples_leaf': 17, 'max_depth': 11, 'learning_rate': 0.01}\n",
      "23639.832233066158 {'min_samples_leaf': 22, 'max_depth': 26, 'learning_rate': 0.01}\n",
      "23496.986348504182 {'min_samples_leaf': 18, 'max_depth': 14, 'learning_rate': 0.01}\n"
     ]
    }
   ],
   "source": [
    "# Getting the grid search results\n",
    "\n",
    "cvres = Rgrid_search.cv_results_\n",
    "\n",
    "for mean_score, params in zip(cvres[\"mean_test_score\"], cvres[\"params\"]):\n",
    "    print(np.sqrt(-mean_score), params)"
   ]
  },
  {
   "cell_type": "code",
   "execution_count": 163,
   "metadata": {},
   "outputs": [
    {
     "data": {
      "text/plain": [
       "{'min_samples_leaf': 11, 'max_depth': 24, 'learning_rate': 0.01}"
      ]
     },
     "execution_count": 163,
     "metadata": {},
     "output_type": "execute_result"
    }
   ],
   "source": [
    "# Checking what the best parameters are\n",
    "\n",
    "Rgrid_search.best_params_"
   ]
  },
  {
   "cell_type": "code",
   "execution_count": 164,
   "metadata": {},
   "outputs": [
    {
     "data": {
      "text/plain": [
       "GradientBoostingRegressor(learning_rate=0.01, max_depth=24, min_samples_leaf=11)"
      ]
     },
     "execution_count": 164,
     "metadata": {},
     "output_type": "execute_result"
    }
   ],
   "source": [
    "# Checking what the best estimators are\n",
    "\n",
    "Rgrid_search.best_estimator_"
   ]
  },
  {
   "cell_type": "code",
   "execution_count": 165,
   "metadata": {},
   "outputs": [
    {
     "name": "stdout",
     "output_type": "stream",
     "text": [
      "Train RMSE: 14820.371354355308\n"
     ]
    }
   ],
   "source": [
    "#Train RMSE\n",
    "train_predict = Rgrid_search.best_estimator_.predict(train_x)\n",
    "\n",
    "train_mse = mean_squared_error(train_y, train_predict)\n",
    "\n",
    "train_rmse = np.sqrt(train_mse)\n",
    "\n",
    "print('Train RMSE: {}' .format(train_rmse))"
   ]
  },
  {
   "cell_type": "code",
   "execution_count": 166,
   "metadata": {},
   "outputs": [
    {
     "name": "stdout",
     "output_type": "stream",
     "text": [
      "Test RMSE: 19792.498188122634\n"
     ]
    }
   ],
   "source": [
    "#Test RMSE\n",
    "test_predict = Rgrid_search.best_estimator_.predict(test_x)\n",
    "\n",
    "test_mse = mean_squared_error(test_y, test_predict)\n",
    "\n",
    "test_rmse = np.sqrt(test_mse)\n",
    "\n",
    "print('Test RMSE: {}' .format(test_rmse))"
   ]
  },
  {
   "cell_type": "markdown",
   "metadata": {},
   "source": [
    "#### Best Model (Gradient Boosting Regressor)"
   ]
  },
  {
   "cell_type": "code",
   "execution_count": 191,
   "metadata": {},
   "outputs": [
    {
     "name": "stdout",
     "output_type": "stream",
     "text": [
      "      Iter       Train Loss      OOB Improve   Remaining Time \n",
      "         1   810243598.8640    23624966.4244           58.75s\n",
      "         2   823708176.5935    30582706.2581           54.29s\n",
      "         3   753467606.2595    15067808.4041           52.61s\n",
      "         4   688533902.5339    24027155.1643           51.40s\n",
      "         5   655530831.4668    16145999.9486           50.61s\n",
      "         6   622522369.2895    15309938.4983           50.20s\n",
      "         7   604794968.8729    15457242.3599           49.93s\n",
      "         8   561133689.9775    14486224.7251           49.70s\n",
      "         9   537111416.3709    16834781.1533           49.38s\n",
      "        10   507705953.3326    17415335.3815           49.09s\n",
      "        20   328786770.7568     4472561.3292           46.03s\n",
      "        30   235597891.2843     4374804.6904           43.45s\n",
      "        40   171480450.9652     2331945.3006           40.90s\n",
      "        50   132019251.2135      683751.1006           38.38s\n",
      "        60    94846169.5508     -459596.7585           35.80s\n",
      "        70    79584694.4107     -242441.1138           33.39s\n",
      "        80    66699592.1456      319115.3133           30.82s\n",
      "        90    51157853.3518      -75506.9271           28.43s\n",
      "       100    39339913.2366     -190408.1251           25.89s\n",
      "       200    10304577.5958     -176759.1375            0.00s\n"
     ]
    },
    {
     "data": {
      "text/plain": [
       "GradientBoostingRegressor(max_depth=4, n_estimators=200, subsample=0.75,\n",
       "                          verbose=1)"
      ]
     },
     "execution_count": 191,
     "metadata": {},
     "output_type": "execute_result"
    }
   ],
   "source": [
    "# Stochastic Gradient Boosting\n",
    "\n",
    "gb_reg = GradientBoostingRegressor(max_depth=4, n_estimators=200, \n",
    "                                   learning_rate=0.1, subsample=0.75, \n",
    "                                   verbose= 1) \n",
    "\n",
    "gb_reg.fit(train_x, train_y)"
   ]
  },
  {
   "cell_type": "code",
   "execution_count": 192,
   "metadata": {},
   "outputs": [
    {
     "name": "stdout",
     "output_type": "stream",
     "text": [
      "Train RMSE: 3248.7873587803115\n",
      "Before 3397.1946180852715\n"
     ]
    }
   ],
   "source": [
    "#Train RMSE\n",
    "train_pred = gb_reg.predict(train_x)\n",
    "\n",
    "train_mse = mean_squared_error(train_y, train_pred)\n",
    "\n",
    "train_rmse = np.sqrt(train_mse)\n",
    "\n",
    "print('Train RMSE: {}' .format(train_rmse))\n",
    "\n",
    "print(\"Before\", 3397.1946180852715)"
   ]
  },
  {
   "cell_type": "code",
   "execution_count": 193,
   "metadata": {},
   "outputs": [
    {
     "name": "stdout",
     "output_type": "stream",
     "text": [
      "Test RMSE: 15317.969045024809\n",
      "Before 15318.12640918705\n"
     ]
    }
   ],
   "source": [
    "#Test RMSE\n",
    "test_pred = gb_reg.predict(test_x)\n",
    "\n",
    "test_mse = mean_squared_error(test_y, test_pred)\n",
    "\n",
    "test_rmse = np.sqrt(test_mse)\n",
    "\n",
    "print('Test RMSE: {}' .format(test_rmse))\n",
    "\n",
    "print(\"Before\", 15318.12640918705)"
   ]
  },
  {
   "cell_type": "code",
   "execution_count": 243,
   "metadata": {},
   "outputs": [
    {
     "data": {
      "text/html": [
       "<div>\n",
       "<style scoped>\n",
       "    .dataframe tbody tr th:only-of-type {\n",
       "        vertical-align: middle;\n",
       "    }\n",
       "\n",
       "    .dataframe tbody tr th {\n",
       "        vertical-align: top;\n",
       "    }\n",
       "\n",
       "    .dataframe thead th {\n",
       "        text-align: right;\n",
       "    }\n",
       "</style>\n",
       "<table border=\"1\" class=\"dataframe\">\n",
       "  <thead>\n",
       "    <tr style=\"text-align: right;\">\n",
       "      <th></th>\n",
       "      <th>Job Description</th>\n",
       "      <th>Location</th>\n",
       "      <th>Min_years_exp</th>\n",
       "      <th>Technical</th>\n",
       "      <th>Comm</th>\n",
       "      <th>Travel</th>\n",
       "      <th>binary_location</th>\n",
       "    </tr>\n",
       "  </thead>\n",
       "  <tbody>\n",
       "    <tr>\n",
       "      <th>765</th>\n",
       "      <td>The New York City Housing Authority (NYCHA) is...</td>\n",
       "      <td>HQ</td>\n",
       "      <td>1</td>\n",
       "      <td>2</td>\n",
       "      <td>3</td>\n",
       "      <td>0</td>\n",
       "      <td>0</td>\n",
       "    </tr>\n",
       "    <tr>\n",
       "      <th>2387</th>\n",
       "      <td>Hiring Rate:  $62,272.00  (Flat Rate-Annual)  ...</td>\n",
       "      <td>HQ</td>\n",
       "      <td>4</td>\n",
       "      <td>3</td>\n",
       "      <td>1</td>\n",
       "      <td>5-10</td>\n",
       "      <td>0</td>\n",
       "    </tr>\n",
       "    <tr>\n",
       "      <th>2162</th>\n",
       "      <td>The Executive Director for Regulatory Reform w...</td>\n",
       "      <td>East campus</td>\n",
       "      <td>4</td>\n",
       "      <td>3</td>\n",
       "      <td>2</td>\n",
       "      <td>0</td>\n",
       "      <td>0</td>\n",
       "    </tr>\n",
       "    <tr>\n",
       "      <th>1833</th>\n",
       "      <td>The NYC Department of Environmental Protection...</td>\n",
       "      <td>East campus</td>\n",
       "      <td>2</td>\n",
       "      <td>3</td>\n",
       "      <td>2</td>\n",
       "      <td>0</td>\n",
       "      <td>0</td>\n",
       "    </tr>\n",
       "    <tr>\n",
       "      <th>1814</th>\n",
       "      <td>The Department of Transportationâ€™s (DOT) mis...</td>\n",
       "      <td>East campus</td>\n",
       "      <td>2</td>\n",
       "      <td>2</td>\n",
       "      <td>2</td>\n",
       "      <td>0</td>\n",
       "      <td>0</td>\n",
       "    </tr>\n",
       "  </tbody>\n",
       "</table>\n",
       "</div>"
      ],
      "text/plain": [
       "                                        Job Description     Location  \\\n",
       "765   The New York City Housing Authority (NYCHA) is...           HQ   \n",
       "2387  Hiring Rate:  $62,272.00  (Flat Rate-Annual)  ...           HQ   \n",
       "2162  The Executive Director for Regulatory Reform w...  East campus   \n",
       "1833  The NYC Department of Environmental Protection...  East campus   \n",
       "1814  The Department of Transportationâ€™s (DOT) mis...  East campus   \n",
       "\n",
       "      Min_years_exp  Technical  Comm Travel  binary_location  \n",
       "765               1          2     3      0                0  \n",
       "2387              4          3     1   5-10                0  \n",
       "2162              4          3     2      0                0  \n",
       "1833              2          3     2      0                0  \n",
       "1814              2          2     2      0                0  "
      ]
     },
     "execution_count": 243,
     "metadata": {},
     "output_type": "execute_result"
    }
   ],
   "source": [
    "# Create a new dataframe off the testing dataset to place the predicted values side by side\n",
    "\n",
    "predicted_test_text_set = pd.DataFrame(test_text_set.copy())\n",
    "predicted_test_inputs = pd.DataFrame(test_inputs.copy())\n",
    "\n",
    "# # Concatenate the testsets\n",
    "predicted_test_df = pd.concat([predicted_test_text_set, predicted_test_inputs], axis = 1)\n",
    "predicted_test_df.head()"
   ]
  },
  {
   "cell_type": "code",
   "execution_count": 244,
   "metadata": {},
   "outputs": [
    {
     "data": {
      "text/html": [
       "<div>\n",
       "<style scoped>\n",
       "    .dataframe tbody tr th:only-of-type {\n",
       "        vertical-align: middle;\n",
       "    }\n",
       "\n",
       "    .dataframe tbody tr th {\n",
       "        vertical-align: top;\n",
       "    }\n",
       "\n",
       "    .dataframe thead th {\n",
       "        text-align: right;\n",
       "    }\n",
       "</style>\n",
       "<table border=\"1\" class=\"dataframe\">\n",
       "  <thead>\n",
       "    <tr style=\"text-align: right;\">\n",
       "      <th></th>\n",
       "      <th>Job Description</th>\n",
       "      <th>Location</th>\n",
       "      <th>Min_years_exp</th>\n",
       "      <th>Technical</th>\n",
       "      <th>Comm</th>\n",
       "      <th>Travel</th>\n",
       "      <th>binary_location</th>\n",
       "      <th>predicted_salary</th>\n",
       "    </tr>\n",
       "  </thead>\n",
       "  <tbody>\n",
       "    <tr>\n",
       "      <th>765</th>\n",
       "      <td>The New York City Housing Authority (NYCHA) is...</td>\n",
       "      <td>HQ</td>\n",
       "      <td>1</td>\n",
       "      <td>2</td>\n",
       "      <td>3</td>\n",
       "      <td>0</td>\n",
       "      <td>0</td>\n",
       "      <td>145942.17</td>\n",
       "    </tr>\n",
       "    <tr>\n",
       "      <th>2387</th>\n",
       "      <td>Hiring Rate:  $62,272.00  (Flat Rate-Annual)  ...</td>\n",
       "      <td>HQ</td>\n",
       "      <td>4</td>\n",
       "      <td>3</td>\n",
       "      <td>1</td>\n",
       "      <td>5-10</td>\n",
       "      <td>0</td>\n",
       "      <td>71961.41</td>\n",
       "    </tr>\n",
       "    <tr>\n",
       "      <th>2162</th>\n",
       "      <td>The Executive Director for Regulatory Reform w...</td>\n",
       "      <td>East campus</td>\n",
       "      <td>4</td>\n",
       "      <td>3</td>\n",
       "      <td>2</td>\n",
       "      <td>0</td>\n",
       "      <td>0</td>\n",
       "      <td>74629.12</td>\n",
       "    </tr>\n",
       "    <tr>\n",
       "      <th>1833</th>\n",
       "      <td>The NYC Department of Environmental Protection...</td>\n",
       "      <td>East campus</td>\n",
       "      <td>2</td>\n",
       "      <td>3</td>\n",
       "      <td>2</td>\n",
       "      <td>0</td>\n",
       "      <td>0</td>\n",
       "      <td>58551.90</td>\n",
       "    </tr>\n",
       "    <tr>\n",
       "      <th>1814</th>\n",
       "      <td>The Department of Transportationâ€™s (DOT) mis...</td>\n",
       "      <td>East campus</td>\n",
       "      <td>2</td>\n",
       "      <td>2</td>\n",
       "      <td>2</td>\n",
       "      <td>0</td>\n",
       "      <td>0</td>\n",
       "      <td>65695.64</td>\n",
       "    </tr>\n",
       "  </tbody>\n",
       "</table>\n",
       "</div>"
      ],
      "text/plain": [
       "                                        Job Description     Location  \\\n",
       "765   The New York City Housing Authority (NYCHA) is...           HQ   \n",
       "2387  Hiring Rate:  $62,272.00  (Flat Rate-Annual)  ...           HQ   \n",
       "2162  The Executive Director for Regulatory Reform w...  East campus   \n",
       "1833  The NYC Department of Environmental Protection...  East campus   \n",
       "1814  The Department of Transportationâ€™s (DOT) mis...  East campus   \n",
       "\n",
       "      Min_years_exp  Technical  Comm Travel  binary_location  predicted_salary  \n",
       "765               1          2     3      0                0         145942.17  \n",
       "2387              4          3     1   5-10                0          71961.41  \n",
       "2162              4          3     2      0                0          74629.12  \n",
       "1833              2          3     2      0                0          58551.90  \n",
       "1814              2          2     2      0                0          65695.64  "
      ]
     },
     "execution_count": 244,
     "metadata": {},
     "output_type": "execute_result"
    }
   ],
   "source": [
    "# Insert the predicted values on the testing dataset\n",
    "\n",
    "predicted_test_df['predicted_salary'] = test_pred\n",
    "predicted_test_df['predicted_salary'] = round(predicted_test_df['predicted_salary'],2)\n",
    "predicted_test_df.head()"
   ]
  },
  {
   "cell_type": "code",
   "execution_count": 246,
   "metadata": {},
   "outputs": [
    {
     "data": {
      "text/plain": [
       "765     149752\n",
       "2387     64653\n",
       "2162     69530\n",
       "1833     51932\n",
       "1814     60218\n",
       "Name: Salary, dtype: int64"
      ]
     },
     "execution_count": 246,
     "metadata": {},
     "output_type": "execute_result"
    }
   ],
   "source": [
    "test_y.head()"
   ]
  }
 ],
 "metadata": {
  "kernelspec": {
   "display_name": "Python 3.8.8 ('base')",
   "language": "python",
   "name": "python3"
  },
  "language_info": {
   "codemirror_mode": {
    "name": "ipython",
    "version": 3
   },
   "file_extension": ".py",
   "mimetype": "text/x-python",
   "name": "python",
   "nbconvert_exporter": "python",
   "pygments_lexer": "ipython3",
   "version": "3.8.8"
  },
  "orig_nbformat": 4,
  "vscode": {
   "interpreter": {
    "hash": "537c77e7e1dd99e6b90ae1f2a20016ebdcd0ffa43ec37fcbf67afedf08f03998"
   }
  }
 },
 "nbformat": 4,
 "nbformat_minor": 2
}
